{
 "cells": [
  {
   "cell_type": "code",
   "execution_count": 1,
   "metadata": {},
   "outputs": [],
   "source": [
    "import crud\n",
    "\n",
    "import graphene\n",
    "from main import Query"
   ]
  },
  {
   "cell_type": "code",
   "execution_count": 2,
   "metadata": {},
   "outputs": [
    {
     "data": {
      "text/plain": [
       "[<models.Instro at 0x10f981090>, <models.Instro at 0x10f980b20>]"
      ]
     },
     "execution_count": 2,
     "metadata": {},
     "output_type": "execute_result"
    }
   ],
   "source": [
    "crud.getAllInstros()"
   ]
  },
  {
   "cell_type": "code",
   "execution_count": 7,
   "metadata": {},
   "outputs": [],
   "source": [
    "schema = graphene.Schema(query=Query)"
   ]
  },
  {
   "cell_type": "code",
   "execution_count": 14,
   "metadata": {},
   "outputs": [
    {
     "data": {
      "text/plain": [
       "{'instros': [{'masterNumber': 2330, 'type': 'sg'},\n",
       "  {'masterNumber': 2331, 'type': 'tc'}]}"
      ]
     },
     "execution_count": 14,
     "metadata": {},
     "output_type": "execute_result"
    }
   ],
   "source": [
    "schema.execute(\"{instros{masterNumber,type}}\").data"
   ]
  },
  {
   "cell_type": "code",
   "execution_count": 19,
   "metadata": {},
   "outputs": [
    {
     "data": {
      "text/plain": [
       "ExecutionResult(data={'instros': [{'masterNumber': 2330, 'type': 'sg'}, {'masterNumber': 2331, 'type': 'tc'}]}, errors=None)"
      ]
     },
     "execution_count": 19,
     "metadata": {},
     "output_type": "execute_result"
    }
   ],
   "source": [
    "schema.execute(\"\"\"query {\n",
    "    instros{masterNumber,type}\n",
    "    }\"\"\")"
   ]
  },
  {
   "cell_type": "code",
   "execution_count": 16,
   "metadata": {},
   "outputs": [
    {
     "data": {
      "text/plain": [
       "ExecutionResult(data={'instro': {'masterNumber': 2331, 'type': 'tc'}}, errors=None)"
      ]
     },
     "execution_count": 16,
     "metadata": {},
     "output_type": "execute_result"
    }
   ],
   "source": [
    "schema.execute(\"\"\"query {\n",
    "    instro(masterNumber:2331){\n",
    "        masterNumber\n",
    "        type}\n",
    "        }\"\"\")"
   ]
  },
  {
   "cell_type": "code",
   "execution_count": 5,
   "metadata": {},
   "outputs": [
    {
     "data": {
      "text/plain": [
       "<models.Instro at 0x1088f3fa0>"
      ]
     },
     "execution_count": 5,
     "metadata": {},
     "output_type": "execute_result"
    }
   ],
   "source": [
    "crud.getInstroByMN(2330)"
   ]
  },
  {
   "cell_type": "code",
   "execution_count": 12,
   "metadata": {},
   "outputs": [],
   "source": [
    "import requests\n",
    "import json\n",
    "import time"
   ]
  },
  {
   "cell_type": "code",
   "execution_count": 81,
   "metadata": {},
   "outputs": [
    {
     "data": {
      "text/plain": [
       "'{\"data\":{\"person\":{\"name\":\"Lama Su\",\"gender\":\"male\",\"species\":{\"name\":\"Kaminoan\",\"designation\":\"sentient\",\"homeworld\":{\"name\":\"Kamino\"}},\"homeworld\":{\"name\":\"Kamino\"}}}}'"
      ]
     },
     "execution_count": 81,
     "metadata": {},
     "output_type": "execute_result"
    }
   ],
   "source": [
    "                    \n",
    "body = \"\"\"\n",
    "{\n",
    "  person(personID: 72) {\n",
    "    name\n",
    "    gender\n",
    "    species{\n",
    "      name\n",
    "      designation\n",
    "      homeworld{\n",
    "        name\n",
    "      }\n",
    "    }\n",
    "    homeworld {\n",
    "      name\n",
    "    }\n",
    "  } \n",
    "}\n",
    "\"\"\"\n",
    "\n",
    "r = requests.post(url='https://swapi-graphql.netlify.app/.netlify/functions/index', json={\"query\":body})\n",
    "\n",
    "r.text\n",
    "                "
   ]
  },
  {
   "cell_type": "code",
   "execution_count": 29,
   "metadata": {},
   "outputs": [
    {
     "data": {
      "text/plain": [
       "'\"\\\\n{\\\\n  person(personID: 4) {\\\\n    name\\\\n    gender\\\\n    homeworld {\\\\n      name}\\\\n    }\\\\n}\\\\n\"'"
      ]
     },
     "execution_count": 29,
     "metadata": {},
     "output_type": "execute_result"
    }
   ],
   "source": [
    "body"
   ]
  },
  {
   "cell_type": "code",
   "execution_count": 25,
   "metadata": {},
   "outputs": [
    {
     "data": {
      "text/plain": [
       "'{\"query\": \"{Query\\\\n  {person(personID: 4) {\\\\n    name\\\\n    gender\\\\n    homeworld {\\\\n      name}\\\\n    }\\\\n  }\"}'"
      ]
     },
     "execution_count": 25,
     "metadata": {},
     "output_type": "execute_result"
    }
   ],
   "source": [
    "query"
   ]
  },
  {
   "cell_type": "code",
   "execution_count": null,
   "metadata": {},
   "outputs": [],
   "source": []
  }
 ],
 "metadata": {
  "kernelspec": {
   "display_name": "pyfantest",
   "language": "python",
   "name": "python3"
  },
  "language_info": {
   "codemirror_mode": {
    "name": "ipython",
    "version": 3
   },
   "file_extension": ".py",
   "mimetype": "text/x-python",
   "name": "python",
   "nbconvert_exporter": "python",
   "pygments_lexer": "ipython3",
   "version": "3.10.13"
  }
 },
 "nbformat": 4,
 "nbformat_minor": 2
}
